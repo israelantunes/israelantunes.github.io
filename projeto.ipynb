{
 "cells": [
  {
   "cell_type": "code",
   "execution_count": null,
   "id": "4d7acc2a",
   "metadata": {},
   "outputs": [],
   "source": [
    "!pip install tensorflow==2.3.1 gym keras-rl2 gym[atari] pip install gym[accept-rom-license]"
   ]
  },
  {
   "cell_type": "markdown",
   "id": "be1b75e8",
   "metadata": {},
   "source": [
    "imports"
   ]
  },
  {
   "cell_type": "code",
   "execution_count": null,
   "id": "f44c0363",
   "metadata": {},
   "outputs": [],
   "source": [
    "import gym \n",
    "import random\n",
    "import numpy as np\n",
    "from tensorflow.keras.models import Sequential\n",
    "from tensorflow.keras.layers import Dense, Flatten, Convolution2D\n",
    "from tensorflow.keras.optimizers import Adam\n",
    "from rl.agents import DQNAgent\n",
    "from rl.memory import SequentialMemory\n",
    "from rl.policy import LinearAnnealedPolicy, EpsGreedyQPolicy"
   ]
  },
  {
   "cell_type": "markdown",
   "id": "669c67c3",
   "metadata": {},
   "source": [
    "CRIANDO AMBIENTE NO GYM"
   ]
  },
  {
   "cell_type": "code",
   "execution_count": null,
   "id": "a3bf0b75",
   "metadata": {},
   "outputs": [],
   "source": [
    "env = gym.make('SpaceInvaders-v0')\n",
    "height, width, channels = env.observation_space.shape\n",
    "actions = env.action_space.n"
   ]
  },
  {
   "cell_type": "markdown",
   "id": "21acbed5",
   "metadata": {},
   "source": [
    "MODELO ADOTADO PARA TREINAR O AGENTE"
   ]
  },
  {
   "cell_type": "code",
   "execution_count": null,
   "id": "223df07d",
   "metadata": {},
   "outputs": [],
   "source": [
    "def modelo(height, width, channels, actions):\n",
    "    model = Sequential()\n",
    "    model.add(Convolution2D(32, (8,8), strides=(4,4), activation='relu', input_shape=(3,height, width, channels)))\n",
    "    model.add(Convolution2D(64, (4,4), strides=(2,2), activation='relu'))\n",
    "    model.add(Convolution2D(64, (3,3), activation='relu'))\n",
    "    model.add(Flatten())\n",
    "    model.add(Dense(512, activation='relu'))\n",
    "    model.add(Dense(256, activation='relu'))\n",
    "    model.add(Dense(actions, activation='linear'))\n",
    "    return model"
   ]
  },
  {
   "cell_type": "markdown",
   "id": "02e82fba",
   "metadata": {},
   "source": [
    "AGENTE"
   ]
  },
  {
   "cell_type": "code",
   "execution_count": null,
   "id": "e2894427",
   "metadata": {},
   "outputs": [],
   "source": [
    "def build_agent(model, actions):\n",
    "    policy = LinearAnnealedPolicy(EpsGreedyQPolicy(), attr='eps', value_max=1., value_min=.1, value_test=.2, nb_steps=10000)\n",
    "    memory = SequentialMemory(limit=1000, window_length=3)\n",
    "    dqn = DQNAgent(model=model, memory=memory, policy=policy,\n",
    "                  enable_dueling_network=True, dueling_type='avg', \n",
    "                   nb_actions=actions, nb_steps_warmup=1000\n",
    "                  )\n",
    "    return dqn"
   ]
  },
  {
   "cell_type": "markdown",
   "id": "c370e621",
   "metadata": {},
   "source": [
    "TREINO DO MODELO E SUAS PONTUACOES"
   ]
  },
  {
   "cell_type": "code",
   "execution_count": null,
   "id": "489f40e3",
   "metadata": {},
   "outputs": [],
   "source": [
    "model = modelo(height, width, channels, actions)"
   ]
  },
  {
   "cell_type": "code",
   "execution_count": null,
   "id": "7b8a10e9",
   "metadata": {},
   "outputs": [],
   "source": [
    "deepQLearning = build_agent(model, actions)\n",
    "deepQLearning.compile(Adam(lr=1e-4))"
   ]
  },
  {
   "cell_type": "code",
   "execution_count": null,
   "id": "49f6ebd7",
   "metadata": {},
   "outputs": [],
   "source": [
    "deepQLearning.fit(env, nb_steps=1000, visualize=False, verbose=2)"
   ]
  },
  {
   "cell_type": "code",
   "execution_count": null,
   "id": "6dfada5e",
   "metadata": {},
   "outputs": [],
   "source": [
    "scores = deepQLearning.test(env, nb_episodes=10, visualize=True)\n",
    "print(np.mean(scores.history['episode_reward']))"
   ]
  },
  {
   "cell_type": "code",
   "execution_count": null,
   "id": "a55c4f7f",
   "metadata": {},
   "outputs": [],
   "source": [
    "deepQLearning.save_weights('C:/Users/biela/dqn_weights.h5f')"
   ]
  },
  {
   "cell_type": "code",
   "execution_count": null,
   "id": "06b138e8",
   "metadata": {},
   "outputs": [],
   "source": [
    "del model, deepQLearning"
   ]
  },
  {
   "cell_type": "code",
   "execution_count": null,
   "id": "6a51b910",
   "metadata": {},
   "outputs": [],
   "source": [
    "deepQLearning.load_weights('C:/Users/biela/dqn_weights.h5f')"
   ]
  }
 ],
 "metadata": {
  "kernelspec": {
   "display_name": "Python 3",
   "language": "python",
   "name": "python3"
  },
  "language_info": {
   "codemirror_mode": {
    "name": "ipython",
    "version": 3
   },
   "file_extension": ".py",
   "mimetype": "text/x-python",
   "name": "python",
   "nbconvert_exporter": "python",
   "pygments_lexer": "ipython3",
   "version": "3.8.8"
  }
 },
 "nbformat": 4,
 "nbformat_minor": 5
}
